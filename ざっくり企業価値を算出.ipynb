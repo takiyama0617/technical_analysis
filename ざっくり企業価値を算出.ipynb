{
  "nbformat": 4,
  "nbformat_minor": 0,
  "metadata": {
    "colab": {
      "name": "ざっくり企業価値を算出.ipynb",
      "provenance": [],
      "collapsed_sections": [],
      "authorship_tag": "ABX9TyNwh0ZPAgVzyzRtas4fmh5g",
      "include_colab_link": true
    },
    "kernelspec": {
      "name": "python3",
      "display_name": "Python 3"
    }
  },
  "cells": [
    {
      "cell_type": "markdown",
      "metadata": {
        "id": "view-in-github",
        "colab_type": "text"
      },
      "source": [
        "<a href=\"https://colab.research.google.com/github/takiyama0617/technical_analysis/blob/master/%E3%81%96%E3%81%A3%E3%81%8F%E3%82%8A%E4%BC%81%E6%A5%AD%E4%BE%A1%E5%80%A4%E3%82%92%E7%AE%97%E5%87%BA.ipynb\" target=\"_parent\"><img src=\"https://colab.research.google.com/assets/colab-badge.svg\" alt=\"Open In Colab\"/></a>"
      ]
    },
    {
      "cell_type": "markdown",
      "metadata": {
        "id": "O-ydHGLxz1A7",
        "colab_type": "text"
      },
      "source": [
        "# 事業価値を見積もる\n",
        "営業利益をベースに考えてみる。\n",
        "\n",
        "通期財務状況の「前々期実績」「前期実績」「今期会社予想」の値を平均し、将来の予測営業利益としておく。\n",
        "\n",
        "事業価値は、営業利益の10倍としておく。\n",
        "\n",
        "※事業価値 = 営業利益 * 0.6(税率40％を控除) / 0.06 = 営業利益 * 10"
      ]
    },
    {
      "cell_type": "markdown",
      "metadata": {
        "id": "qeTWyVrC2geq",
        "colab_type": "text"
      },
      "source": [
        "# 財産価値を見積もる\n",
        "\n",
        "以下を足す\n",
        "* 流動資産の財産部分\n",
        "* 固定資産の財産部分\n",
        "\n",
        "財産価値 = 流動資産 - (流動資産 * 1.2) + 固定資産のうち「投資その他の資産」"
      ]
    },
    {
      "cell_type": "markdown",
      "metadata": {
        "id": "7poaFbwUmrY_",
        "colab_type": "text"
      },
      "source": [
        "# 負債を引く\n",
        "\n",
        "企業価値 = 事業価値 + 財産価値 - 固定負債"
      ]
    },
    {
      "cell_type": "markdown",
      "metadata": {
        "id": "olweH0JunEOs",
        "colab_type": "text"
      },
      "source": [
        "# 1株あたりの価値は？\n",
        "\n",
        "企業価値を発行済株式数で割る。\n",
        "\n",
        "ここでの概算1株あたりの価値と現在の株価を比較。\n",
        "\n",
        "割安で、株価上昇の材料がわかれば、「買い」かな。"
      ]
    }
  ]
}